{
  "nbformat": 4,
  "nbformat_minor": 0,
  "metadata": {
    "colab": {
      "provenance": []
    },
    "kernelspec": {
      "name": "python3",
      "display_name": "Python 3"
    },
    "language_info": {
      "name": "python"
    }
  },
  "cells": [
    {
      "cell_type": "code",
      "execution_count": 1,
      "metadata": {
        "colab": {
          "base_uri": "https://localhost:8080/"
        },
        "id": "KO1dJjMM1HqV",
        "outputId": "1a23e6b9-5b0c-4ba5-f7bb-11f770e37573"
      },
      "outputs": [
        {
          "output_type": "stream",
          "name": "stdout",
          "text": [
            "Requirement already satisfied: nltk in /usr/local/lib/python3.10/dist-packages (3.8.1)\n",
            "Requirement already satisfied: click in /usr/local/lib/python3.10/dist-packages (from nltk) (8.1.6)\n",
            "Requirement already satisfied: joblib in /usr/local/lib/python3.10/dist-packages (from nltk) (1.3.2)\n",
            "Requirement already satisfied: regex>=2021.8.3 in /usr/local/lib/python3.10/dist-packages (from nltk) (2023.6.3)\n",
            "Requirement already satisfied: tqdm in /usr/local/lib/python3.10/dist-packages (from nltk) (4.66.1)\n"
          ]
        }
      ],
      "source": [
        "!pip install nltk"
      ]
    },
    {
      "cell_type": "code",
      "source": [
        "import nltk"
      ],
      "metadata": {
        "id": "0X4RF5Mp1fQI"
      },
      "execution_count": 2,
      "outputs": []
    },
    {
      "cell_type": "code",
      "source": [
        "nltk.download()"
      ],
      "metadata": {
        "colab": {
          "base_uri": "https://localhost:8080/"
        },
        "id": "2VBP0EcJ1sI5",
        "outputId": "e01d102d-dd2d-41b2-f2f3-41675dae6af0"
      },
      "execution_count": 4,
      "outputs": [
        {
          "name": "stdout",
          "output_type": "stream",
          "text": [
            "NLTK Downloader\n",
            "---------------------------------------------------------------------------\n",
            "    d) Download   l) List    u) Update   c) Config   h) Help   q) Quit\n",
            "---------------------------------------------------------------------------\n",
            "Downloader> d\n",
            "\n",
            "Download which package (l=list; x=cancel)?\n",
            "  Identifier> punkt\n"
          ]
        },
        {
          "output_type": "stream",
          "name": "stderr",
          "text": [
            "    Downloading package punkt to /root/nltk_data...\n",
            "      Unzipping tokenizers/punkt.zip.\n"
          ]
        },
        {
          "name": "stdout",
          "output_type": "stream",
          "text": [
            "\n",
            "---------------------------------------------------------------------------\n",
            "    d) Download   l) List    u) Update   c) Config   h) Help   q) Quit\n",
            "---------------------------------------------------------------------------\n",
            "Downloader> q\n"
          ]
        },
        {
          "output_type": "execute_result",
          "data": {
            "text/plain": [
              "True"
            ]
          },
          "metadata": {},
          "execution_count": 4
        }
      ]
    },
    {
      "cell_type": "code",
      "source": [
        "from nltk.tokenize import sent_tokenize"
      ],
      "metadata": {
        "id": "VWFJBeyb1xbZ"
      },
      "execution_count": 5,
      "outputs": []
    },
    {
      "cell_type": "code",
      "source": [
        "text = 'Hello Everyone. This is Arpit Sutariya pursuing Computer Science Engineering(Data Science) from Vidyavardhinis College Of Engineering and Technology'"
      ],
      "metadata": {
        "id": "96lYXtUN2EJA"
      },
      "execution_count": 6,
      "outputs": []
    },
    {
      "cell_type": "code",
      "source": [
        "text"
      ],
      "metadata": {
        "colab": {
          "base_uri": "https://localhost:8080/",
          "height": 35
        },
        "id": "gHnZPird2vrU",
        "outputId": "84e35546-ea65-4a07-ff97-361b8ad5b9e5"
      },
      "execution_count": 7,
      "outputs": [
        {
          "output_type": "execute_result",
          "data": {
            "text/plain": [
              "'Hello Everyone. This is Arpit Sutariya pursuing Computer Science Engineering(Data Science) from Vidyavardhinis College Of Engineering and Technology'"
            ],
            "application/vnd.google.colaboratory.intrinsic+json": {
              "type": "string"
            }
          },
          "metadata": {},
          "execution_count": 7
        }
      ]
    },
    {
      "cell_type": "code",
      "source": [
        "sentences = sent_tokenize (text)"
      ],
      "metadata": {
        "id": "Io7RApND2zSQ"
      },
      "execution_count": 8,
      "outputs": []
    },
    {
      "cell_type": "code",
      "source": [
        "sentences"
      ],
      "metadata": {
        "colab": {
          "base_uri": "https://localhost:8080/"
        },
        "id": "IrathmlV21zg",
        "outputId": "f75a05ab-25c6-4504-cdfb-d6a8d89bfc61"
      },
      "execution_count": 9,
      "outputs": [
        {
          "output_type": "execute_result",
          "data": {
            "text/plain": [
              "['Hello Everyone.',\n",
              " 'This is Arpit Sutariya pursuing Computer Science Engineering(Data Science) from Vidyavardhinis College Of Engineering and Technology']"
            ]
          },
          "metadata": {},
          "execution_count": 9
        }
      ]
    },
    {
      "cell_type": "code",
      "source": [
        "from nltk.tokenize import word_tokenize"
      ],
      "metadata": {
        "id": "iU9TabMr23aY"
      },
      "execution_count": 10,
      "outputs": []
    },
    {
      "cell_type": "code",
      "source": [
        "words = word_tokenize (text)"
      ],
      "metadata": {
        "id": "gYA3uv1L26kg"
      },
      "execution_count": 11,
      "outputs": []
    },
    {
      "cell_type": "code",
      "source": [
        "words"
      ],
      "metadata": {
        "colab": {
          "base_uri": "https://localhost:8080/"
        },
        "id": "-PiI2Jk928nJ",
        "outputId": "2282ea15-0fb0-497a-e5f5-9401543d0c7d"
      },
      "execution_count": 12,
      "outputs": [
        {
          "output_type": "execute_result",
          "data": {
            "text/plain": [
              "['Hello',\n",
              " 'Everyone',\n",
              " '.',\n",
              " 'This',\n",
              " 'is',\n",
              " 'Arpit',\n",
              " 'Sutariya',\n",
              " 'pursuing',\n",
              " 'Computer',\n",
              " 'Science',\n",
              " 'Engineering',\n",
              " '(',\n",
              " 'Data',\n",
              " 'Science',\n",
              " ')',\n",
              " 'from',\n",
              " 'Vidyavardhinis',\n",
              " 'College',\n",
              " 'Of',\n",
              " 'Engineering',\n",
              " 'and',\n",
              " 'Technology']"
            ]
          },
          "metadata": {},
          "execution_count": 12
        }
      ]
    },
    {
      "cell_type": "code",
      "source": [
        "for w in words:\n",
        "    print (w)"
      ],
      "metadata": {
        "colab": {
          "base_uri": "https://localhost:8080/"
        },
        "id": "zFIvHGlx3HPv",
        "outputId": "61afa00c-27ee-4b87-c900-afbe1bacd9f0"
      },
      "execution_count": 14,
      "outputs": [
        {
          "output_type": "stream",
          "name": "stdout",
          "text": [
            "Hello\n",
            "Everyone\n",
            ".\n",
            "This\n",
            "is\n",
            "Arpit\n",
            "Sutariya\n",
            "pursuing\n",
            "Computer\n",
            "Science\n",
            "Engineering\n",
            "(\n",
            "Data\n",
            "Science\n",
            ")\n",
            "from\n",
            "Vidyavardhinis\n",
            "College\n",
            "Of\n",
            "Engineering\n",
            "and\n",
            "Technology\n"
          ]
        }
      ]
    },
    {
      "cell_type": "code",
      "source": [
        "sent_tokenize (text)"
      ],
      "metadata": {
        "colab": {
          "base_uri": "https://localhost:8080/"
        },
        "id": "yhv6NdR23M04",
        "outputId": "47136642-e385-4f95-f06d-72eabeafb47c"
      },
      "execution_count": 15,
      "outputs": [
        {
          "output_type": "execute_result",
          "data": {
            "text/plain": [
              "['Hello Everyone.',\n",
              " 'This is Arpit Sutariya pursuing Computer Science Engineering(Data Science) from Vidyavardhinis College Of Engineering and Technology']"
            ]
          },
          "metadata": {},
          "execution_count": 15
        }
      ]
    },
    {
      "cell_type": "code",
      "source": [
        "[word_tokenize (text) for t in sent_tokenize(text)]"
      ],
      "metadata": {
        "colab": {
          "base_uri": "https://localhost:8080/"
        },
        "id": "knOC86m33PiY",
        "outputId": "38c559ea-4cae-4a03-895f-0c4540f210f9"
      },
      "execution_count": 16,
      "outputs": [
        {
          "output_type": "execute_result",
          "data": {
            "text/plain": [
              "[['Hello',\n",
              "  'Everyone',\n",
              "  '.',\n",
              "  'This',\n",
              "  'is',\n",
              "  'Arpit',\n",
              "  'Sutariya',\n",
              "  'pursuing',\n",
              "  'Computer',\n",
              "  'Science',\n",
              "  'Engineering',\n",
              "  '(',\n",
              "  'Data',\n",
              "  'Science',\n",
              "  ')',\n",
              "  'from',\n",
              "  'Vidyavardhinis',\n",
              "  'College',\n",
              "  'Of',\n",
              "  'Engineering',\n",
              "  'and',\n",
              "  'Technology'],\n",
              " ['Hello',\n",
              "  'Everyone',\n",
              "  '.',\n",
              "  'This',\n",
              "  'is',\n",
              "  'Arpit',\n",
              "  'Sutariya',\n",
              "  'pursuing',\n",
              "  'Computer',\n",
              "  'Science',\n",
              "  'Engineering',\n",
              "  '(',\n",
              "  'Data',\n",
              "  'Science',\n",
              "  ')',\n",
              "  'from',\n",
              "  'Vidyavardhinis',\n",
              "  'College',\n",
              "  'Of',\n",
              "  'Engineering',\n",
              "  'and',\n",
              "  'Technology']]"
            ]
          },
          "metadata": {},
          "execution_count": 16
        }
      ]
    },
    {
      "cell_type": "code",
      "source": [
        "from nltk.tokenize import wordpunct_tokenize"
      ],
      "metadata": {
        "id": "YNWchUqh3Ty4"
      },
      "execution_count": 17,
      "outputs": []
    },
    {
      "cell_type": "code",
      "source": [
        "wordpunct_tokenize (text)"
      ],
      "metadata": {
        "colab": {
          "base_uri": "https://localhost:8080/"
        },
        "id": "OeN6asWV3V6w",
        "outputId": "b9efe6f0-6081-4305-fa7e-244be16b4145"
      },
      "execution_count": 18,
      "outputs": [
        {
          "output_type": "execute_result",
          "data": {
            "text/plain": [
              "['Hello',\n",
              " 'Everyone',\n",
              " '.',\n",
              " 'This',\n",
              " 'is',\n",
              " 'Arpit',\n",
              " 'Sutariya',\n",
              " 'pursuing',\n",
              " 'Computer',\n",
              " 'Science',\n",
              " 'Engineering',\n",
              " '(',\n",
              " 'Data',\n",
              " 'Science',\n",
              " ')',\n",
              " 'from',\n",
              " 'Vidyavardhinis',\n",
              " 'College',\n",
              " 'Of',\n",
              " 'Engineering',\n",
              " 'and',\n",
              " 'Technology']"
            ]
          },
          "metadata": {},
          "execution_count": 18
        }
      ]
    },
    {
      "cell_type": "code",
      "source": [
        "text.lower()"
      ],
      "metadata": {
        "colab": {
          "base_uri": "https://localhost:8080/",
          "height": 35
        },
        "id": "gVXENZB83X6Y",
        "outputId": "85ae9484-cf94-47be-9059-255885df5bc5"
      },
      "execution_count": 19,
      "outputs": [
        {
          "output_type": "execute_result",
          "data": {
            "text/plain": [
              "'hello everyone. this is arpit sutariya pursuing computer science engineering(data science) from vidyavardhinis college of engineering and technology'"
            ],
            "application/vnd.google.colaboratory.intrinsic+json": {
              "type": "string"
            }
          },
          "metadata": {},
          "execution_count": 19
        }
      ]
    },
    {
      "cell_type": "code",
      "source": [
        "text.upper()"
      ],
      "metadata": {
        "colab": {
          "base_uri": "https://localhost:8080/",
          "height": 35
        },
        "id": "sLGp9S783aN4",
        "outputId": "537b397f-19ef-4c28-d81f-d96e820d59d6"
      },
      "execution_count": 20,
      "outputs": [
        {
          "output_type": "execute_result",
          "data": {
            "text/plain": [
              "'HELLO EVERYONE. THIS IS ARPIT SUTARIYA PURSUING COMPUTER SCIENCE ENGINEERING(DATA SCIENCE) FROM VIDYAVARDHINIS COLLEGE OF ENGINEERING AND TECHNOLOGY'"
            ],
            "application/vnd.google.colaboratory.intrinsic+json": {
              "type": "string"
            }
          },
          "metadata": {},
          "execution_count": 20
        }
      ]
    }
  ]
}